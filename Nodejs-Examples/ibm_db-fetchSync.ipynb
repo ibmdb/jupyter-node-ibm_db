/*
#----------------------------------------------------------------------------------------------#
#  NAME:     ibm_db-fetchSync.js                                                               #
#                                                                                              #
#  PURPOSE:  This program is designed to illustrate how to use the ibm_db.fetchSync() API to   #
#            synchronously fetch a row of data  from an remote Db2 server.                     #       
#                                                                                              #
#            Additional APIs used:                                                             #
#                 ibm_db.open()                                                                #
#                 ibm_db.executeSync()                                                         #
#                 ibm_db.querySync()                                                           #
#                 ibm_db.fetchSync()                                                           #
#                 ibm_db.prepareSync()                                                         #
#                 ibm_db.closeSync()                                                           #
#                                                                                              #
#                                                                                              #
#----------------------------------------------------------------------------------------------#
#                     DISCLAIMER OF WARRANTIES AND LIMITATION OF LIABILITY                     #
#                                                                                              #
#  (C) COPYRIGHT International Business Machines Corp. 2018 All Rights Reserved                #
#  Licensed Materials - Property of IBM                                                        #
#                                                                                              #
#  US Government Users Restricted Rights - Use, duplication or disclosure restricted by GSA    #
#  ADP Schedule Contract with IBM Corp.                                                        #
#                                                                                              #
#  The following source code ("Sample") is owned by International Business Machines            #
#  Corporation ("IBM") or one of its subsidiaries and is copyrighted and licensed, not sold.   #
#  You may use, copy, modify, and distribute the Sample in any form without payment to IBM,    #
#  for the purpose of assisting you in the creation of Python applications using the ibm_db    #
#  library.                                                                                    #
#                                                                                              #
#  The Sample code is provided to you on an "AS IS" basis, without warranty of any kind. IBM   #
#  HEREBY EXPRESSLY DISCLAIMS ALL WARRANTIES, EITHER EXPRESS OR IMPLIED, INCLUDING, BUT NOT    #
#  LIMITED TO, THE IMPLIED WARRANTIES OF MERCHANTABILITY AND FITNESS FOR A PARTICULAR PURPOSE. #
#  Some jurisdictions do not allow for the exclusion or limitation of implied warranties, so   #
#  the above limitations or exclusions may not apply to you. IBM shall not be liable for any   #
#  damages you suffer as a result of using, copying, modifying or distributing the Sample,     #
#  even if IBM has been advised of the possibility of such damages.                            #
#----------------------------------------------------------------------------------------------#
*/

var ibmdb = require("ibm_db")
    ,cn = "DATABASE=dbName;HOSTNAME=myhost;PORT=dbport;PROTOCOL=TCPIP;UID=username;PWD=password";

ibmdb.open(cn, function (err, conn) {
    if (conn) {
        if (conn.connected) {
            console.log("\n A database connection has been created successfully.\n");
        }
        else if (err) {
            console.log(JSON.stringify(err));
            return;
        }
    }
    conn.querySync("create table hits (col1 varchar(40), col2 int)");
    conn.querySync("insert into hits values ('something', 42)");
    conn.querySync("insert into hits values ('fur', 43)");
    var stmt = conn.prepareSync("select * from hits");
    var result = stmt.executeSync();
    var data = 0;
    while (data = result.fetchSync({ fetchMode: 3 })) {
        console.log(data);
    }
    result.closeSync();
    conn.querySync("drop table hits");
    conn.closeSync();
});