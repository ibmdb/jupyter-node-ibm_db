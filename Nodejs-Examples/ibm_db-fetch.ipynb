/*
#----------------------------------------------------------------------------------------------#
#  NAME:     ibm_db-fetch.js                                                                   #
#                                                                                              #
#  PURPOSE:  This program is designed to illustrate how to use the ibm_db.fetch() API to     #
#            asynchronously fetch a row of data from ODBCResult object from an remote          #       
#            Db2 server.                                                                       #
#                                                                                              #
#            Additional APIs used:                                                             #
#                 ibm_db.open()                                                                #
#                 ibm_db.close()                                                               #
#                 ibm_db.querySync()                                                           #
#                 ibm_db.closeSync()                                                           #
#                 ibm_db.prepare()                                                             #
#                 ibm_db.execute()                                                             #
#                                                                                              #
#                                                                                              #
#----------------------------------------------------------------------------------------------#
#                     DISCLAIMER OF WARRANTIES AND LIMITATION OF LIABILITY                     #
#                                                                                              #
#  (C) COPYRIGHT International Business Machines Corp. 2018 All Rights Reserved                #
#  Licensed Materials - Property of IBM                                                        #
#                                                                                              #
#  US Government Users Restricted Rights - Use, duplication or disclosure restricted by GSA    #
#  ADP Schedule Contract with IBM Corp.                                                        #
#                                                                                              #
#  The following source code ("Sample") is owned by International Business Machines            #
#  Corporation ("IBM") or one of its subsidiaries and is copyrighted and licensed, not sold.   #
#  You may use, copy, modify, and distribute the Sample in any form without payment to IBM,    #
#  for the purpose of assisting you in the creation of Python applications using the ibm_db    #
#  library.                                                                                    #
#                                                                                              #
#  The Sample code is provided to you on an "AS IS" basis, without warranty of any kind. IBM   #
#  HEREBY EXPRESSLY DISCLAIMS ALL WARRANTIES, EITHER EXPRESS OR IMPLIED, INCLUDING, BUT NOT    #
#  LIMITED TO, THE IMPLIED WARRANTIES OF MERCHANTABILITY AND FITNESS FOR A PARTICULAR PURPOSE. #
#  Some jurisdictions do not allow for the exclusion or limitation of implied warranties, so   #
#  the above limitations or exclusions may not apply to you. IBM shall not be liable for any   #
#  damages you suffer as a result of using, copying, modifying or distributing the Sample,     #
#  even if IBM has been advised of the possibility of such damages.                            #
#----------------------------------------------------------------------------------------------#
*/

var ibmdb = require("ibm_db")
    , cn = "DATABASE=dbName;HOSTNAME=myhost;PORT=dbport;PROTOCOL=TCPIP;UID=username;PWD=password";

ibmdb.open(cn, function (err, conn) {
    if (conn) {
        if (conn.connected) {
            console.log("\n A database connection has been created successfully.\n");
        }
        else if (err) {
            console.log(JSON.stringify(err));
            return;
        }
    }
    conn.querySync("create table hits (col1 varchar(40), col2 int)");
    conn.querySync("insert into hits values ('something', 42)");
    conn.querySync("insert into hits values ('fur', 43)");
    conn.prepare("select * from hits", function (err, stmt) {
        if (err) {
            //could not prepare for some reason
            console.log(err);
            return conn.closeSync();
        }
        stmt.execute(function (err, result) {
            if (err) console.log(err);
            result.fetch(function (err, row) {
                if (err) { console.log(err); }
                else {
                    console.log("Row1 = ", row);
                    result.fetch({ fetchMode: 3 }, function (err, row) {
                        if (err) { console.log(err); }
                        console.log("Row2 = ", row);
                        result.closeSync();
                        conn.querySync("drop table hits");
                        //Close the connection
                        conn.close(function (err) { console.log("Connection Closed."); });
                    });
                }
            });
        });
    });
});