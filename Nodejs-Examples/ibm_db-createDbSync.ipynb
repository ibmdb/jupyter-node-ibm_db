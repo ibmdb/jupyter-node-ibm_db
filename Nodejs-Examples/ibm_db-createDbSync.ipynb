/*
#----------------------------------------------------------------------------------------------#
#  NAME:     ibm_db-createDbSync.js                                                            #
#                                                                                              #
#  PURPOSE:  This program is designed to illustrate how to use the ibm_db.createDbSync() API   #
#            to create a database in an remote Db2 server.                                     #
#                                                                                              #
#            Additional APIs used:                                                             #
#                 ibm_db.openSync()                                                            #
#                 ibm_db.query()                                                               #
#                ibm_db.closeSync()                                                            #
#                                                                                              #
#----------------------------------------------------------------------------------------------#
#                     DISCLAIMER OF WARRANTIES AND LIMITATION OF LIABILITY                     #
#                                                                                              #
#  (C) COPYRIGHT International Business Machines Corp. 2018 All Rights Reserved                #
#  Licensed Materials - Property of IBM                                                        #
#                                                                                              #
#  US Government Users Restricted Rights - Use, duplication or disclosure restricted by GSA    #
#  ADP Schedule Contract with IBM Corp.                                                        #
#                                                                                              #
#  The following source code ("Sample") is owned by International Business Machines            #
#  Corporation ("IBM") or one of its subsidiaries and is copyrighted and licensed, not sold.   #
#  You may use, copy, modify, and distribute the Sample in any form without payment to IBM,    #
#  for the purpose of assisting you in the creation of Python applications using the ibm_db    #
#  library.                                                                                    #
#                                                                                              #
#  The Sample code is provided to you on an "AS IS" basis, without warranty of any kind. IBM   #
#  HEREBY EXPRESSLY DISCLAIMS ALL WARRANTIES, EITHER EXPRESS OR IMPLIED, INCLUDING, BUT NOT    #
#  LIMITED TO, THE IMPLIED WARRANTIES OF MERCHANTABILITY AND FITNESS FOR A PARTICULAR PURPOSE. #
#  Some jurisdictions do not allow for the exclusion or limitation of implied warranties, so   #
#  the above limitations or exclusions may not apply to you. IBM shall not be liable for any   #
#  damages you suffer as a result of using, copying, modifying or distributing the Sample,     #
#  even if IBM has been advised of the possibility of such damages.                            #
#----------------------------------------------------------------------------------------------#
*/

var ibmdb = require("ibm_db");
// Connection string without "DATABASE" keyword and value.
var cn = "DATABASE=dbName;HOSTNAME=myhost;PORT=dbport;PROTOCOL=TCPIP;UID=username;PWD=password";

var dbName = "dot";

var createDB = ibmdb.createDbSync(dbName);

if (createDB) {
    console.log("Database created successfully.");
    // Connection string with newly created "DATABASE" name.
    var conStr = cn + ";" + "DATABASE=" + dbName;

    ibmdb.open(conStr, function (err, conn) {
        if (err) console.log(err);
        else console.log("Database connection opened.");
    });
}