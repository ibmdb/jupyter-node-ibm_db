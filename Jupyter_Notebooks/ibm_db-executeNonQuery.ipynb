{
 "cells": [
  {
   "cell_type": "markdown",
   "metadata": {
    "deletable": false
   },
   "source": [
    "# ibm_db.executeNonQuery()"
   ]
  },
  {
   "cell_type": "markdown",
   "metadata": {
    "deletable": false
   },
   "source": [
    "## Purpose:"
   ]
  },
  {
   "cell_type": "markdown",
   "metadata": {
    "deletable": false
   },
   "source": [
    "Execute a non query prepared statement and returns the number of rows affected in a table by the statement."
   ]
  },
  {
   "cell_type": "markdown",
   "metadata": {
    "deletable": false
   },
   "source": [
    "## Syntax:"
   ]
  },
  {
   "cell_type": "markdown",
   "metadata": {
    "deletable": false
   },
   "source": [
    "stmt.executeNonQuery(bindingParamters,callback)"
   ]
  },
  {
   "cell_type": "markdown",
   "metadata": {
    "deletable": false
   },
   "source": [
    "## Parameters:"
   ]
  },
  {
   "cell_type": "markdown",
   "metadata": {
    "deletable": false
   },
   "source": [
    "* __*bindingParameters &nbsp; :*__ &nbsp; OPTIONAL - An array of values that will be bound to any '?' characters in prepared sql statement. Values can be array or object itself.\n",
    "\n",
    "* __*callback &nbsp; :*__ &nbsp; `callback (err, affectedRowCount)`\n"
   ]
  },
  {
   "cell_type": "markdown",
   "metadata": {
    "deletable": false
   },
   "source": [
    "## Return values:"
   ]
  },
  {
   "cell_type": "markdown",
   "metadata": {
    "deletable": false
   },
   "source": [
    "* If __successful__, returns the `affected row`\n",
    "* If __unsuccessful__, returns `Error`"
   ]
  },
  {
   "cell_type": "markdown",
   "metadata": {
    "deletable": false
   },
   "source": [
    "## Description:"
   ]
  },
  {
   "cell_type": "markdown",
   "metadata": {
    "deletable": false
   },
   "source": [
    "The __ibm_db.executeNonQuery()__ API is used to execute a non query statement and returns affected rows from an IBM Db2 server or database.<p>"
   ]
  },
  {
   "cell_type": "markdown",
   "metadata": {
    "deletable": false
   },
   "source": [
    "## Example:\n"
   ]
  },
  {
   "cell_type": "code",
   "execution_count": 5,
   "metadata": {
    "deletable": false
   },
   "outputs": [
    {
     "name": "stdout",
     "output_type": "stream",
     "text": [
      "\n",
      " A database connection has been created successfully.\n",
      "\n",
      " Affected rows = 1\n"
     ]
    }
   ],
   "source": [
    "/*\n",
    "#----------------------------------------------------------------------------------------------#\n",
    "#  NAME:     ibm_db-executeNonQuery.js                                                         #\n",
    "#                                                                                              #\n",
    "#  PURPOSE:  This program is designed to illustrate how to use the ibm_db.executeNonQuery()    #\n",
    "#            API to execute a non query statement and returns affected rows from an remote     #\n",
    "#            Db2 server.                                                                       #\n",
    "#                                                                                              #\n",
    "#            Additional APIs used:                                                             #\n",
    "#                 ibm_db.open()                                                                #\n",
    "#                 ibm_db.close()                                                               #\n",
    "#                 ibm_db.prepare()                                                             #                                                                                          #\n",
    "#                                                                                              #\n",
    "#----------------------------------------------------------------------------------------------#\n",
    "#                     DISCLAIMER OF WARRANTIES AND LIMITATION OF LIABILITY                     #\n",
    "#                                                                                              #\n",
    "#  (C) COPYRIGHT International Business Machines Corp. 2018 All Rights Reserved                #\n",
    "#  Licensed Materials - Property of IBM                                                        #\n",
    "#                                                                                              #\n",
    "#  US Government Users Restricted Rights - Use, duplication or disclosure restricted by GSA    #\n",
    "#  ADP Schedule Contract with IBM Corp.                                                        #\n",
    "#                                                                                              #\n",
    "#  The following source code (\"Sample\") is owned by International Business Machines            #\n",
    "#  Corporation (\"IBM\") or one of its subsidiaries and is copyrighted and licensed, not sold.   #\n",
    "#  You may use, copy, modify, and distribute the Sample in any form without payment to IBM,    #\n",
    "#  for the purpose of assisting you in the creation of Python applications using the ibm_db    #\n",
    "#  library.                                                                                    #\n",
    "#                                                                                              #\n",
    "#  The Sample code is provided to you on an \"AS IS\" basis, without warranty of any kind. IBM   #\n",
    "#  HEREBY EXPRESSLY DISCLAIMS ALL WARRANTIES, EITHER EXPRESS OR IMPLIED, INCLUDING, BUT NOT    #\n",
    "#  LIMITED TO, THE IMPLIED WARRANTIES OF MERCHANTABILITY AND FITNESS FOR A PARTICULAR PURPOSE. #\n",
    "#  Some jurisdictions do not allow for the exclusion or limitation of implied warranties, so   #\n",
    "#  the above limitations or exclusions may not apply to you. IBM shall not be liable for any   #\n",
    "#  damages you suffer as a result of using, copying, modifying or distributing the Sample,     #\n",
    "#  even if IBM has been advised of the possibility of such damages.                            #\n",
    "#----------------------------------------------------------------------------------------------#\n",
    "*/\n",
    "\n",
    "var ibmdb = require(\"ibm_db\")\n",
    "    , cn = \"DATABASE=goo;HOSTNAME=localhost;PORT=50000;PROTOCOL=TCPIP;UID=pmanoharan;PWD=priyapreety@04\";\n",
    "\n",
    "ibmdb.open(cn, function (err, conn) {\n",
    "     if (conn) {\n",
    "        if (conn.connected) {\n",
    "            console.log(\"\\n A database connection has been created successfully.\\n\");\n",
    "        }\n",
    "        else if (err) {\n",
    "            console.log(JSON.stringify(err));\n",
    "            return;\n",
    "        }\n",
    "    }\n",
    "    conn.querySync(\"create table ro(id int, text varchar(30))\");\n",
    "    conn.prepare(\"insert into ro (id, text) VALUES (?, ?)\", function (err, stmt) {\n",
    "        if (err) {\n",
    "            console.log(err);\n",
    "            return conn.closeSync();\n",
    "        }\n",
    "\n",
    "        //Bind and Execute the statment asynchronously\n",
    "        stmt.executeNonQuery([42, 'hello world'], function (err, ret) {\n",
    "            if (err) console.log(err);\n",
    "            else console.log(\" Affected rows = \" + ret);\n",
    "\n",
    "            //Close the connection\n",
    "            conn.close(function (err) { });\n",
    "        });\n",
    "    });\n",
    "});"
   ]
  },
  {
   "cell_type": "code",
   "execution_count": null,
   "metadata": {},
   "outputs": [],
   "source": []
  }
 ],
 "metadata": {
  "kernelspec": {
   "display_name": "Javascript (Node.js)",
   "language": "javascript",
   "name": "javascript"
  },
  "language_info": {
   "file_extension": ".js",
   "mimetype": "application/javascript",
   "name": "javascript",
   "version": "10.15.0"
  }
 },
 "nbformat": 4,
 "nbformat_minor": 2
}
