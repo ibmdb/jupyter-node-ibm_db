{
 "cells": [
  {
   "cell_type": "markdown",
   "metadata": {
    "deletable": false
   },
   "source": [
    "# ibm_db.open()"
   ]
  },
  {
   "cell_type": "markdown",
   "metadata": {
    "deletable": false
   },
   "source": [
    "## Purpose:"
   ]
  },
  {
   "cell_type": "markdown",
   "metadata": {
    "deletable": false
   },
   "source": [
    "Open a connection to a database."
   ]
  },
  {
   "cell_type": "markdown",
   "metadata": {
    "deletable": false
   },
   "source": [
    "## Syntax:"
   ]
  },
  {
   "cell_type": "markdown",
   "metadata": {
    "deletable": false
   },
   "source": [
    "ibmdb.open(connString, options, callback)"
   ]
  },
  {
   "cell_type": "markdown",
   "metadata": {
    "deletable": false
   },
   "source": [
    "## Parameters:"
   ]
  },
  {
   "cell_type": "markdown",
   "metadata": {
    "deletable": false
   },
   "source": [
    "* __*connString &nbsp; &nbsp; :*__ &nbsp; A valid Db2 server or database connection stringwith the format `DRIVER={IBM DB2 ODBC DRIVER};DATABASE=dbName;HOSTNAME=hostName;PORT=port;PROTOCOL=TCPIP;UID=userName;PWD=password` where:<p>\n",
    "    \n",
    "    * `dbName`&nbsp; &nbsp; &nbsp; &nbsp; &nbsp;: The name of the Db2 server or database the connection is to be made to. *This option is only required when connecting to a Db2 database.*\n",
    "    * `hostName`&nbsp; &nbsp; &nbsp;: The host name or IP address of the Db2 server the connection is to be made to. (The hostname is the name of the Db2 server, as it is known to the TCP/IP network.) *This option is only required when connecting to a Db2 server.*\n",
    "    * `port`&nbsp; &nbsp; &nbsp; &nbsp; &nbsp; &nbsp; &nbsp;: The port number that receives Db2 connections on the server the connection is to be made to. (Port number __50000__ is used by default.) *This option is only required when connecting to a Db2 server.*\n",
    "    * `userName`&nbsp; &nbsp; &nbsp;: The user name/ID that is to be used for authentication when the connection is established.\n",
    "    * `password`&nbsp; &nbsp; &nbsp;: The password that corresponds to the user name/ID specified in the __*password*__ parameter.<p>\n",
    "               \n",
    "* __*options &nbsp; &nbsp; &nbsp; &nbsp; &nbsp;  :*__ &nbsp; OPTIONAL - Object type. Can be used to avoid multiple loading of native ODBC library for each call of .open. Also, can be used to pass connectTimeout value and systemNaming value for i5/OS server.\n",
    "\n",
    "* __*callback &nbsp; &nbsp; &nbsp; &nbsp; &nbsp;  :*__ &nbsp;callback (err, conn)\n"
   ]
  },
  {
   "cell_type": "markdown",
   "metadata": {
    "deletable": false
   },
   "source": [
    "## Return values:"
   ]
  },
  {
   "cell_type": "markdown",
   "metadata": {
    "deletable": false
   },
   "source": [
    "* If __successful__, a valid `DBConnection` object.\n",
    "* If __unsuccessful__, the value `None`."
   ]
  },
  {
   "cell_type": "markdown",
   "metadata": {
    "deletable": false
   },
   "source": [
    "## Description:"
   ]
  },
  {
   "cell_type": "markdown",
   "metadata": {
    "deletable": false
   },
   "source": [
    "The __ibm_db.open()__ API is used to asynchronously establish a new connection to an IBM Db2 server or database.<p>\n",
    "    \n",
    "If a connection to a remote Db2 server or database is desired, the information needed to connect to the server (i.e., the host name, port number, and communications protocol) must be provided before a connection to either resource can be established.<p>\n"
   ]
  },
  {
   "cell_type": "markdown",
   "metadata": {
    "deletable": false
   },
   "source": [
    "## Example:\n"
   ]
  },
  {
   "cell_type": "code",
   "execution_count": 2,
   "metadata": {
    "deletable": false
   },
   "outputs": [
    {
     "name": "stdout",
     "output_type": "stream",
     "text": [
      "\n",
      " A database connection has been created successfully \n",
      "\n",
      " conn.query output :[{\"A\":1},{\"A\":2},{\"A\":3},{\"A\":4},{\"A\":5},{\"A\":6},{\"A\":7},{\"A\":8},{\"A\":9},{\"A\":0},{\"A\":11},{\"A\":12}]\n"
     ]
    }
   ],
   "source": [
    "/*\n",
    "#----------------------------------------------------------------------------------------------#\n",
    "#  NAME:     ibm_db-open.js                                                                    #\n",
    "#                                                                                              #\n",
    "#  PURPOSE:  This program is designed to illustrate how to use the ibm_db.open() API to        #\n",
    "#            asychronously establish a connection to a remote Db2 server.                      #\n",
    "#                                                                                              #\n",
    "#            Additional APIs used:                                                             #\n",
    "#                 ibm_db.close()                                                               #\n",
    "#                 ibm_db.query()                                                               #\n",
    "#                                                                                              #\n",
    "#----------------------------------------------------------------------------------------------#\n",
    "#                     DISCLAIMER OF WARRANTIES AND LIMITATION OF LIABILITY                     #\n",
    "#                                                                                              #\n",
    "#  (C) COPYRIGHT International Business Machines Corp. 2018 All Rights Reserved                #\n",
    "#  Licensed Materials - Property of IBM                                                        #\n",
    "#                                                                                              #\n",
    "#  US Government Users Restricted Rights - Use, duplication or disclosure restricted by GSA    #\n",
    "#  ADP Schedule Contract with IBM Corp.                                                        #\n",
    "#                                                                                              #\n",
    "#  The following source code (\"Sample\") is owned by International Business Machines            #\n",
    "#  Corporation (\"IBM\") or one of its subsidiaries and is copyrighted and licensed, not sold.   #\n",
    "#  You may use, copy, modify, and distribute the Sample in any form without payment to IBM,    #\n",
    "#  for the purpose of assisting you in the creation of Python applications using the ibm_db    #\n",
    "#  library.                                                                                    #\n",
    "#                                                                                              #\n",
    "#  The Sample code is provided to you on an \"AS IS\" basis, without warranty of any kind. IBM   #\n",
    "#  HEREBY EXPRESSLY DISCLAIMS ALL WARRANTIES, EITHER EXPRESS OR IMPLIED, INCLUDING, BUT NOT    #\n",
    "#  LIMITED TO, THE IMPLIED WARRANTIES OF MERCHANTABILITY AND FITNESS FOR A PARTICULAR PURPOSE. #\n",
    "#  Some jurisdictions do not allow for the exclusion or limitation of implied warranties, so   #\n",
    "#  the above limitations or exclusions may not apply to you. IBM shall not be liable for any   #\n",
    "#  damages you suffer as a result of using, copying, modifying or distributing the Sample,     #\n",
    "#  even if IBM has been advised of the possibility of such damages.                            #\n",
    "#----------------------------------------------------------------------------------------------#\n",
    "*/\n",
    "\n",
    "var ibmdb = require(\"ibm_db\")           // Contains The APIs Needed To Work With Db2 Databases\n",
    "var connStr = \"DATABASE=goo;HOSTNAME=localhost;PORT=50000;PROTOCOL=TCPIP;UID=pmanoharan;PWD=priyapreety@04\";\n",
    "\n",
    "ibmdb.open(connStr, function (err, conn) {\n",
    "    if (conn) {\n",
    "        if (conn.connected) {\n",
    "            console.log(\"\\n A database connection has been created successfully \");\n",
    "        }\n",
    "        else if (err) {\n",
    "            console.log(JSON.stringify(err));\n",
    "            return;\n",
    "        }\n",
    "    }\n",
    "    conn.query(\"select * from rocket\", function (err1, rows) {\n",
    "        if (err1) console.log(\"\\n Unable to fetch rows records because of error :\" + JSON.stringify(err));\n",
    "      else console.log(\"\\n conn.query output :\" + JSON.stringify(rows));\n",
    "      conn.close(function(err2) {\n",
    "          if (err2) console.log(\"\\n Error in closing connection :\" + JSON.stringify(err))\n",
    "      });\n",
    "    });\n",
    "});"
   ]
  },
  {
   "cell_type": "code",
   "execution_count": null,
   "metadata": {},
   "outputs": [],
   "source": []
  }
 ],
 "metadata": {
  "kernelspec": {
   "display_name": "Javascript (Node.js)",
   "language": "javascript",
   "name": "javascript"
  },
  "language_info": {
   "file_extension": ".js",
   "mimetype": "application/javascript",
   "name": "javascript",
   "version": "10.15.0"
  }
 },
 "nbformat": 4,
 "nbformat_minor": 2
}
