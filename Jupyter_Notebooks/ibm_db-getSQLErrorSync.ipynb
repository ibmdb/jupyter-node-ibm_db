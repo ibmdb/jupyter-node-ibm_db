{
 "cells": [
  {
   "cell_type": "markdown",
   "metadata": {
    "deletable": false
   },
   "source": [
    "# ibm_db.getSQLErrorSync()"
   ]
  },
  {
   "cell_type": "markdown",
   "metadata": {
    "deletable": false
   },
   "source": [
    "## Purpose:"
   ]
  },
  {
   "cell_type": "markdown",
   "metadata": {
    "deletable": false
   },
   "source": [
    "Synchronously retrieve the sqlerror message and codes for last instruction executed on a statement handle using SQLGetDiagRec ODBC API. It operates on ODBCResult object."
   ]
  },
  {
   "cell_type": "markdown",
   "metadata": {
    "deletable": false
   },
   "source": [
    "## Syntax:"
   ]
  },
  {
   "cell_type": "markdown",
   "metadata": {
    "deletable": false
   },
   "source": [
    "result.getSQLErrorSync()"
   ]
  },
  {
   "cell_type": "markdown",
   "metadata": {
    "deletable": false
   },
   "source": [
    "## Parameters:"
   ]
  },
  {
   "cell_type": "markdown",
   "metadata": {
    "deletable": false
   },
   "source": [
    "\n",
    "* No Parameters\n"
   ]
  },
  {
   "cell_type": "markdown",
   "metadata": {
    "deletable": false
   },
   "source": [
    "## Return values:"
   ]
  },
  {
   "cell_type": "markdown",
   "metadata": {
    "deletable": false
   },
   "source": [
    "* If __successful__, returns `sqlerror` message\n",
    "* If __unsuccessful__, returns `None`"
   ]
  },
  {
   "cell_type": "markdown",
   "metadata": {
    "deletable": false
   },
   "source": [
    "## Description:"
   ]
  },
  {
   "cell_type": "markdown",
   "metadata": {
    "deletable": false
   },
   "source": [
    "The __ibm_db.getSQLErrorSync()__ API is used to retrive sqlerror message from an IBM Db2 server or database.<p>"
   ]
  },
  {
   "cell_type": "markdown",
   "metadata": {
    "deletable": false
   },
   "source": [
    "## Example:\n"
   ]
  },
  {
   "cell_type": "code",
   "execution_count": 3,
   "metadata": {
    "deletable": false
   },
   "outputs": [
    {
     "name": "stdout",
     "output_type": "stream",
     "text": [
      "Fetched Data =  [ { C1: 5, C2: 'abc' },\n",
      "  { C1: 5, C2: 'abc' },\n",
      "  { C1: 5, C2: 'abc' },\n",
      "  { C1: 5, C2: 'abc' },\n",
      "  { C1: 5, C2: 'abc' },\n",
      "  { C1: 5, C2: 'abc' },\n",
      "  { C1: 5, C2: 'abc' },\n",
      "  { C1: 5, C2: 'abc' },\n",
      "  { C1: 5, C2: 'abc' },\n",
      "  { C1: 5, C2: 'abc' },\n",
      "  { C1: 5, C2: 'abc' },\n",
      "  { C1: 5, C2: 'abc' },\n",
      "  { C1: 5, C2: 'abc' },\n",
      "  { C1: 5, C2: 'abc' },\n",
      "  { C1: 5, C2: 'abc' },\n",
      "  { C1: 5, C2: 'abc' },\n",
      "  { C1: 5, C2: 'abc' },\n",
      "  { C1: 5, C2: 'abc' } ]\n",
      "\n",
      " SQLError =  { Error: [IBM][CLI Driver][DB2/NT64] SQL0100W  No row was found for FETCH, UPDATE or DELETE; or the result of a query is an empty table.  SQLSTATE=02000\n",
      "\n",
      "    at evalmachine.<anonymous>:51:50\n",
      "    at C:\\Users\\pmanoharan\\node_modules\\ibm_db\\lib\\odbc.js:1264:11\n",
      "  errors: [],\n",
      "  error: '',\n",
      "  message:\n",
      "   '[IBM][CLI Driver][DB2/NT64] SQL0100W  No row was found for FETCH, UPDATE or DELETE; or the result of a query is an empty table.  SQLSTATE=02000\\r\\n',\n",
      "  state: '02000',\n",
      "  sqlcode: 100 }\n"
     ]
    }
   ],
   "source": [
    "/*\n",
    "#---------------------------------------------------------------------------------------------------#\n",
    "#  NAME:     ibm_db-getSQLErrorSync.js                                                              #\n",
    "#                                                                                                   #\n",
    "#  PURPOSE:  This program is designed to illustrate how to use the ibm_db.getSQLErrorSync()         #\n",
    "#            API to retrive sqlerror message from an remote Db2 server.                             #\n",
    "#                                                                                                   #\n",
    "#            Additional APIs used:                                                                  #\n",
    "#                 ibm_db.open()                                                                     # \n",
    "#                 ibm_db.querySync()                                                                #\n",
    "#                 ibm_db.prepare()                                                                  #\n",
    "#                  ibm_db.execute()                                                                 #\n",
    "#                                                                                                   #\n",
    "#---------------------------------------------------------------------------------------------------#\n",
    "#                     DISCLAIMER OF WARRANTIES AND LIMITATION OF LIABILITY                          #\n",
    "#                                                                                                   #\n",
    "#  (C) COPYRIGHT International Business Machines Corp. 2018 All Rights Reserved                     #\n",
    "#  Licensed Materials - Property of IBM                                                             #\n",
    "#                                                                                                   #\n",
    "#  US Government Users Restricted Rights - Use, duplication or disclosure restricted by GSA         #\n",
    "#  ADP Schedule Contract with IBM Corp.                                                             #\n",
    "#                                                                                                   #\n",
    "#  The following source code (\"Sample\") is owned by International Business Machines                 #\n",
    "#  Corporation (\"IBM\") or one of its subsidiaries and is copyrighted and licensed, not sold.        #\n",
    "#  You may use, copy, modify, and distribute the Sample in any form without payment to IBM,         #\n",
    "#  for the purpose of assisting you in the creation of Python applications using the ibm_db         #\n",
    "#  library.                                                                                         #\n",
    "#                                                                                                   #\n",
    "#  The Sample code is provided to you on an \"AS IS\" basis, without warranty of any kind. IBM        #\n",
    "#  HEREBY EXPRESSLY DISCLAIMS ALL WARRANTIES, EITHER EXPRESS OR IMPLIED, INCLUDING, BUT NOT         #\n",
    "#  LIMITED TO, THE IMPLIED WARRANTIES OF MERCHANTABILITY AND FITNESS FOR A PARTICULAR PURPOSE.      #\n",
    "#  Some jurisdictions do not allow for the exclusion or limitation of implied warranties, so        #\n",
    "#  the above limitations or exclusions may not apply to you. IBM shall not be liable for any        #\n",
    "#  damages you suffer as a result of using, copying, modifying or distributing the Sample,          #\n",
    "#  even if IBM has been advised of the possibility of such damages.                                 #\n",
    "#---------------------------------------------------------------------------------------------------#\n",
    "*/\n",
    "\n",
    "var ibmdb = require(\"ibm_db\")\n",
    "    , cn = \"DATABASE=dbName;HOSTNAME=myhost;PORT=dbport;PROTOCOL=TCPIP;UID=username;PWD=password\";\n",
    ";\n",
    "\n",
    "ibmdb.open(cn, function (err, conn) {\n",
    "    if (err) {\n",
    "        return console.log(err);\n",
    "    }\n",
    "    conn.querySync(\"insert into my values ( 5, 'abc')\");\n",
    "    conn.prepare(\"select * from my\", function (err, stmt) {\n",
    "        stmt.execute(function (err, result) {\n",
    "            console.log(\"Fetched Data = \", result.fetchAllSync());\n",
    "            console.log(\"\\n SQLError = \", result.getSQLErrorSync());\n",
    "            result.closeSync();\n",
    "            conn.closeSync();\n",
    "        });\n",
    "    });\n",
    "});"
   ]
  },
  {
   "cell_type": "code",
   "execution_count": null,
   "metadata": {},
   "outputs": [],
   "source": []
  }
 ],
 "metadata": {
  "kernelspec": {
   "display_name": "Javascript (Node.js)",
   "language": "javascript",
   "name": "javascript"
  },
  "language_info": {
   "file_extension": ".js",
   "mimetype": "application/javascript",
   "name": "javascript",
   "version": "10.15.0"
  }
 },
 "nbformat": 4,
 "nbformat_minor": 2
}
