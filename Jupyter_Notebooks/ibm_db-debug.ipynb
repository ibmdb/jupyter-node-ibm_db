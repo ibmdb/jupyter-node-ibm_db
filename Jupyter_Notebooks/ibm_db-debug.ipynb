{
 "cells": [
  {
   "cell_type": "markdown",
   "metadata": {
    "deletable": false
   },
   "source": [
    "# ibm_db.debug()"
   ]
  },
  {
   "cell_type": "markdown",
   "metadata": {
    "deletable": false
   },
   "source": [
    "## Purpose:"
   ]
  },
  {
   "cell_type": "markdown",
   "metadata": {
    "deletable": false
   },
   "source": [
    "Enable console logs."
   ]
  },
  {
   "cell_type": "markdown",
   "metadata": {
    "deletable": false
   },
   "source": [
    "## Syntax:"
   ]
  },
  {
   "cell_type": "markdown",
   "metadata": {
    "deletable": false
   },
   "source": [
    "ibmdb.debug(value)"
   ]
  },
  {
   "cell_type": "markdown",
   "metadata": {
    "deletable": false
   },
   "source": [
    "## Parameters:"
   ]
  },
  {
   "cell_type": "markdown",
   "metadata": {
    "deletable": false
   },
   "source": [
    "\n",
    "* __*value &nbsp; :*__ &nbsp;true/false.\n"
   ]
  },
  {
   "cell_type": "markdown",
   "metadata": {
    "deletable": false
   },
   "source": [
    "## Return values:"
   ]
  },
  {
   "cell_type": "markdown",
   "metadata": {
    "deletable": false
   },
   "source": [
    "* If __successful__, retruns `boolean`\n",
    "* If __unsuccessful__, returns `None`"
   ]
  },
  {
   "cell_type": "markdown",
   "metadata": {
    "deletable": false
   },
   "source": [
    "## Description:"
   ]
  },
  {
   "cell_type": "markdown",
   "metadata": {
    "deletable": false
   },
   "source": [
    "The __ibm_db.debug()__ API is used to enable the console log in an IBM Db2 server or database.<p>"
   ]
  },
  {
   "cell_type": "markdown",
   "metadata": {
    "deletable": false
   },
   "source": [
    "## Example:\n"
   ]
  },
  {
   "cell_type": "code",
   "execution_count": 6,
   "metadata": {
    "deletable": false
   },
   "outputs": [
    {
     "name": "stdout",
     "output_type": "stream",
     "text": [
      "node-ibm_db logs enabled.\n",
      "\n",
      " A database connection has been created successfully.\n",
      "\n",
      "93.325 ::  odbc.js:query() => Entry\n",
      "93.325 ::  odbc.js:query() =>  select 1 from sysibm.sysdummy1\n",
      "93.332 ::  odbc.js:query() => Done.\n",
      "[ { '1': 1 } ]\n",
      "node-ibm_db logs disabled.\n"
     ]
    }
   ],
   "source": [
    "/*\n",
    "#----------------------------------------------------------------------------------------------#\n",
    "#  NAME:     ibm_db-debug.js                                                                   #\n",
    "#                                                                                              #\n",
    "#  PURPOSE:  This program is designed to illustrate how to use the ibm_db.debug() API to       #\n",
    "#            enable the console log from an remote Db2 server.                                 #\n",
    "#                                                                                              #\n",
    "#            Additional APIs used:                                                             #\n",
    "#                 ibm_db.open()                                                                #\n",
    "#                 ibm_db.close()                                                               #\n",
    "#                                                                                              #\n",
    "#----------------------------------------------------------------------------------------------#\n",
    "#                     DISCLAIMER OF WARRANTIES AND LIMITATION OF LIABILITY                     #\n",
    "#                                                                                              #\n",
    "#  (C) COPYRIGHT International Business Machines Corp. 2018 All Rights Reserved                #\n",
    "#  Licensed Materials - Property of IBM                                                        #\n",
    "#                                                                                              #\n",
    "#  US Government Users Restricted Rights - Use, duplication or disclosure restricted by GSA    #\n",
    "#  ADP Schedule Contract with IBM Corp.                                                        #\n",
    "#                                                                                              #\n",
    "#  The following source code (\"Sample\") is owned by International Business Machines            #\n",
    "#  Corporation (\"IBM\") or one of its subsidiaries and is copyrighted and licensed, not sold.   #\n",
    "#  You may use, copy, modify, and distribute the Sample in any form without payment to IBM,    #\n",
    "#  for the purpose of assisting you in the creation of Python applications using the ibm_db    #\n",
    "#  library.                                                                                    #\n",
    "#                                                                                              #\n",
    "#  The Sample code is provided to you on an \"AS IS\" basis, without warranty of any kind. IBM   #\n",
    "#  HEREBY EXPRESSLY DISCLAIMS ALL WARRANTIES, EITHER EXPRESS OR IMPLIED, INCLUDING, BUT NOT    #\n",
    "#  LIMITED TO, THE IMPLIED WARRANTIES OF MERCHANTABILITY AND FITNESS FOR A PARTICULAR PURPOSE. #\n",
    "#  Some jurisdictions do not allow for the exclusion or limitation of implied warranties, so   #\n",
    "#  the above limitations or exclusions may not apply to you. IBM shall not be liable for any   #\n",
    "#  damages you suffer as a result of using, copying, modifying or distributing the Sample,     #\n",
    "#  even if IBM has been advised of the possibility of such damages.                            #\n",
    "#----------------------------------------------------------------------------------------------#\n",
    "*/\n",
    "\n",
    "var ibmdb = require(\"ibm_db\")\n",
    "    ,cn = \"DATABASE=dbName;HOSTNAME=myhost;PORT=dbport;PROTOCOL=TCPIP;UID=username;PWD=password\";\n",
    "\n",
    "ibmdb.debug(true);  // **==> ENABLE CONSOLE LOGS. <==**\n",
    "\n",
    "ibmdb.open(cn, function (err, conn) {\n",
    "    if (conn) {\n",
    "        if (conn.connected) {\n",
    "            console.log(\"\\n A database connection has been created successfully.\\n\");\n",
    "        }\n",
    "        else if (err) {\n",
    "            console.log(JSON.stringify(err));\n",
    "            return;\n",
    "        }\n",
    "    }\n",
    "    conn.query(\"select 1 from sysibm.sysdummy1\", function (err1, rows) {\n",
    "        if (err1) console.log(err1);\n",
    "        else console.log(rows);\n",
    "\n",
    "        ibmdb.debug(false);  // Disable console logs.\n",
    "\n",
    "        conn.close(function (err2) {\n",
    "            if (err2) console.log(err2);\n",
    "        });\n",
    "    });\n",
    "});"
   ]
  },
  {
   "cell_type": "code",
   "execution_count": null,
   "metadata": {},
   "outputs": [],
   "source": []
  }
 ],
 "metadata": {
  "kernelspec": {
   "display_name": "Javascript (Node.js)",
   "language": "javascript",
   "name": "javascript"
  },
  "language_info": {
   "file_extension": ".js",
   "mimetype": "application/javascript",
   "name": "javascript",
   "version": "10.15.0"
  }
 },
 "nbformat": 4,
 "nbformat_minor": 2
}
