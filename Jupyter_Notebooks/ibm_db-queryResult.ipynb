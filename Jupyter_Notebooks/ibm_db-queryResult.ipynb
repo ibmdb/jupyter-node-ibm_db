{
 "cells": [
  {
   "cell_type": "markdown",
   "metadata": {
    "deletable": false
   },
   "source": [
    "# ibm_db.queryResult()"
   ]
  },
  {
   "cell_type": "markdown",
   "metadata": {
    "deletable": false
   },
   "source": [
    "## Purpose:"
   ]
  },
  {
   "cell_type": "markdown",
   "metadata": {
    "deletable": false
   },
   "source": [
    "Issue an asynchronous SQL query to the database which is currently open and return (err, result, outparams) to callback function. `result` is ODBCResult object. Uisng `result`, call `result.fetchAllSync()` to retrieve all rows; call `result.getColumnMetadataSync()` to get meta data info or call `result.fetchSync()` to retrieve each row one by one and process. Execute `result.closeSync()` once done with the `result` object. `query` returns all the rows on call, but queryResult returns the result object and rows need to be fetched by the caller."
   ]
  },
  {
   "cell_type": "markdown",
   "metadata": {
    "deletable": false
   },
   "source": [
    "## Syntax:"
   ]
  },
  {
   "cell_type": "markdown",
   "metadata": {
    "deletable": false
   },
   "source": [
    "conn.queryResult(sqlQuery, bindingParameters, callback)"
   ]
  },
  {
   "cell_type": "markdown",
   "metadata": {
    "deletable": false
   },
   "source": [
    "## Parameters:"
   ]
  },
  {
   "cell_type": "markdown",
   "metadata": {
    "deletable": false
   },
   "source": [
    "* __*sqlQuery &nbsp; &nbsp; :*__ &nbsp; The SQL query to be executed or an Object in the form {\"sql\": sqlQuery, \"params\":bindingParameters, \"noResults\": noResultValue}. noResults accepts only true or false values. If true - queryResult() will not return any result object and value of result will be null. \"sql\" field is mandatory in Object, others are OPTIONAL.\n",
    "               \n",
    "* __*bindingParameters &nbsp; &nbsp; &nbsp; &nbsp; &nbsp;  :*__ &nbsp;  OPTIONAL - An array of values that will be bound to any ? characters (called parameter marker) in `sqlQuery`. bindingParameters in sqlQuery Object takes precedence over it.\n",
    "\n",
    "* __*callback &nbsp; &nbsp; &nbsp; &nbsp; &nbsp;  :*__ &nbsp; `callback (err, result, outparams)`. outparams is returned only for CALL statement with OUT parameters. Any resultset expected from SP should get retrieved using result.fetch api's.\n"
   ]
  },
  {
   "cell_type": "markdown",
   "metadata": {
    "deletable": false
   },
   "source": [
    "## Return values:"
   ]
  },
  {
   "cell_type": "markdown",
   "metadata": {
    "deletable": false
   },
   "source": [
    "* If __successful__, fetch the `Record` from database.\n",
    "* If __unsuccessful__, returns `Error`."
   ]
  },
  {
   "cell_type": "markdown",
   "metadata": {
    "deletable": false
   },
   "source": [
    "## Description:"
   ]
  },
  {
   "cell_type": "markdown",
   "metadata": {
    "deletable": false
   },
   "source": [
    "The __ibm_db.queryResult()__ API is used to asynchronously fetch the record from an currently open IBM Db2 server or database.<p>"
   ]
  },
  {
   "cell_type": "markdown",
   "metadata": {
    "deletable": false
   },
   "source": [
    "## Example:\n"
   ]
  },
  {
   "cell_type": "code",
   "execution_count": 2,
   "metadata": {
    "deletable": false
   },
   "outputs": [
    {
     "name": "stdout",
     "output_type": "stream",
     "text": [
      "\n",
      " A database connection has been created successfully \n",
      "\n",
      "  data =  [ { NAME: 'pri', ROLE: 'intern' },\n",
      "  { NAME: 'priya', ROLE: 'intern' },\n",
      "  { NAME: 'priyan', ROLE: 'intern' },\n",
      "  { NAME: 'priyank', ROLE: 'intern' } ]\n",
      "\n",
      "  metadata =  [ { index: 1,\n",
      "    SQL_DESC_CONCISE_TYPE: 'NAME',\n",
      "    SQL_DESC_TYPE_NAME: 'VARCHAR',\n",
      "    SQL_DESC_DISPLAY_SIZE: 10,\n",
      "    SQL_DESC_PRECISION: 0,\n",
      "    SQL_DESC_SCALE: 0,\n",
      "    SQL_DESC_LENGTH: 10 },\n",
      "  { index: 2,\n",
      "    SQL_DESC_CONCISE_TYPE: 'ROLE',\n",
      "    SQL_DESC_TYPE_NAME: 'VARCHAR',\n",
      "    SQL_DESC_DISPLAY_SIZE: 10,\n",
      "    SQL_DESC_PRECISION: 0,\n",
      "    SQL_DESC_SCALE: 0,\n",
      "    SQL_DESC_LENGTH: 10 } ]\n"
     ]
    }
   ],
   "source": [
    "/*\n",
    "#----------------------------------------------------------------------------------------------#\n",
    "#  NAME:     ibm_db-queryResult.js                                                             #\n",
    "#                                                                                              #\n",
    "#  PURPOSE:  This program is designed to illustrate how to use the ibm_db.queryResult() API to #\n",
    "#            asynchronously fetch the record from an currently open remote Db2 server.         #\n",
    "#                                                                                              #\n",
    "#            Additional APIs used:                                                             #\n",
    "#                 ibm_db.open()                                                                #\n",
    "#                 ibm_db.closeSync()                                                           #\n",
    "#                                                                                              #\n",
    "#----------------------------------------------------------------------------------------------#\n",
    "#                     DISCLAIMER OF WARRANTIES AND LIMITATION OF LIABILITY                     #\n",
    "#                                                                                              #\n",
    "#  (C) COPYRIGHT International Business Machines Corp. 2018 All Rights Reserved                #\n",
    "#  Licensed Materials - Property of IBM                                                        #\n",
    "#                                                                                              #\n",
    "#  US Government Users Restricted Rights - Use, duplication or disclosure restricted by GSA    #\n",
    "#  ADP Schedule Contract with IBM Corp.                                                        #\n",
    "#                                                                                              #\n",
    "#  The following source code (\"Sample\") is owned by International Business Machines            #\n",
    "#  Corporation (\"IBM\") or one of its subsidiaries and is copyrighted and licensed, not sold.   #\n",
    "#  You may use, copy, modify, and distribute the Sample in any form without payment to IBM,    #\n",
    "#  for the purpose of assisting you in the creation of Python applications using the ibm_db    #\n",
    "#  library.                                                                                    #\n",
    "#                                                                                              #\n",
    "#  The Sample code is provided to you on an \"AS IS\" basis, without warranty of any kind. IBM   #\n",
    "#  HEREBY EXPRESSLY DISCLAIMS ALL WARRANTIES, EITHER EXPRESS OR IMPLIED, INCLUDING, BUT NOT    #\n",
    "#  LIMITED TO, THE IMPLIED WARRANTIES OF MERCHANTABILITY AND FITNESS FOR A PARTICULAR PURPOSE. #\n",
    "#  Some jurisdictions do not allow for the exclusion or limitation of implied warranties, so   #\n",
    "#  the above limitations or exclusions may not apply to you. IBM shall not be liable for any   #\n",
    "#  damages you suffer as a result of using, copying, modifying or distributing the Sample,     #\n",
    "#  even if IBM has been advised of the possibility of such damages.                            #\n",
    "#----------------------------------------------------------------------------------------------#\n",
    "*/\n",
    "\n",
    "\n",
    "var ibmdb = require(\"ibm_db\")\n",
    "    , cn = \"DATABASE=goo;HOSTNAME=localhost;PORT=50000;PROTOCOL=TCPIP;UID=pmanoharan;PWD=priyapreety@04\";\n",
    "\t;\n",
    "ibmdb.open(cn, function (err,conn) {\n",
    "    if (conn) {\n",
    "        if (conn.connected) {\n",
    "            console.log(\"\\n A database connection has been created successfully \");\n",
    "        }\n",
    "        else if (err) {\n",
    "            console.log(JSON.stringify(err));\n",
    "            return;\n",
    "        }\n",
    "    }\n",
    "    var query = 'select name,role from rock where id = ?';\n",
    "    conn.queryResult(query, [1], function (err, result) {\n",
    "        if(err) { console.log(\"\\n...Unable to fetch rows records because of error :\" + JSON.stringify(err)); }\n",
    "        else {\n",
    "          console.log(\"\\n  data = \", result.fetchAllSync());\n",
    "          console.log(\"\\n  metadata = \", result.getColumnMetadataSync());\n",
    "          result.closeSync(); // Must call in application.\n",
    "          conn.closeSync();\n",
    "\n",
    "        }\n",
    "    });\n",
    "});"
   ]
  },
  {
   "cell_type": "code",
   "execution_count": null,
   "metadata": {},
   "outputs": [],
   "source": []
  }
 ],
 "metadata": {
  "kernelspec": {
   "display_name": "Javascript (Node.js)",
   "language": "javascript",
   "name": "javascript"
  },
  "language_info": {
   "file_extension": ".js",
   "mimetype": "application/javascript",
   "name": "javascript",
   "version": "10.15.0"
  }
 },
 "nbformat": 4,
 "nbformat_minor": 2
}
